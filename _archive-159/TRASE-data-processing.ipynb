{
 "cells": [
  {
   "cell_type": "markdown",
   "id": "3273c8e9-dfe4-41dc-a28d-23c51c548b48",
   "metadata": {},
   "source": [
    "Processing the TRASE data"
   ]
  },
  {
   "cell_type": "code",
   "execution_count": null,
   "id": "d405803c-97ad-4a4c-847b-4ea123f05ecd",
   "metadata": {},
   "outputs": [],
   "source": [
    "# Set up environment\n",
    "import pandas as pd\n",
    "import numpy as np\n",
    "import matplotlib.pyplot as plt"
   ]
  },
  {
   "cell_type": "code",
   "execution_count": null,
   "id": "b4018fe6-a4cd-4442-9a67-3af149a22cc9",
   "metadata": {},
   "outputs": [],
   "source": [
    "# Set working directory\n",
    "import os\n",
    "os.chdir('C:/Dropbox/papers/4-work-in-progress/159-trase-dataset')"
   ]
  },
  {
   "cell_type": "code",
   "execution_count": null,
   "id": "133bfd0c-f297-49db-b4c6-36745bf5c315",
   "metadata": {},
   "outputs": [],
   "source": [
    "# Create \n",
    "arg_corn = pd.read_csv('159-data-original/argentina-corn-v0.2.3-2024-01-17.csv')"
   ]
  },
  {
   "cell_type": "code",
   "execution_count": null,
   "id": "30587b0a-a6b3-4db8-9f87-feb56341a298",
   "metadata": {},
   "outputs": [],
   "source": [
    "# Data structure\n",
    "arg_corn.columns\n",
    "arg_corn.describe()"
   ]
  },
  {
   "cell_type": "code",
   "execution_count": null,
   "id": "25e74f5e-5ff8-43f0-af24-252c10555168",
   "metadata": {},
   "outputs": [],
   "source": [
    "# Sort on exporter\n",
    "arg_corn.sort_values('exporter')"
   ]
  },
  {
   "cell_type": "markdown",
   "id": "711fef33-e5fc-47ce-9548-f3d18347f730",
   "metadata": {},
   "source": [
    "# Exploratory data analysis"
   ]
  },
  {
   "cell_type": "code",
   "execution_count": null,
   "id": "04a6f6e5-3d58-4c8d-b49e-92f0ccbe72c4",
   "metadata": {},
   "outputs": [],
   "source": [
    "# Histogram\n",
    "plt.hist(arg_corn['volume'],\n",
    "        bins=300,\n",
    "        log=True)"
   ]
  }
 ],
 "metadata": {
  "kernelspec": {
   "display_name": "Python 3 (ipykernel)",
   "language": "python",
   "name": "python3"
  },
  "language_info": {
   "codemirror_mode": {
    "name": "ipython",
    "version": 3
   },
   "file_extension": ".py",
   "mimetype": "text/x-python",
   "name": "python",
   "nbconvert_exporter": "python",
   "pygments_lexer": "ipython3",
   "version": "3.11.7"
  }
 },
 "nbformat": 4,
 "nbformat_minor": 5
}
