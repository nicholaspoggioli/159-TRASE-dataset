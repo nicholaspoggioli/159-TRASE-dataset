{
 "cells": [
  {
   "cell_type": "code",
   "execution_count": 1,
   "id": "d405803c-97ad-4a4c-847b-4ea123f05ecd",
   "metadata": {},
   "outputs": [],
   "source": [
    "import pandas as pd\n",
    "import numpy as np\n",
    "import matplotlib.pyplot as plt"
   ]
  },
  {
   "cell_type": "code",
   "execution_count": 2,
   "id": "b4018fe6-a4cd-4442-9a67-3af149a22cc9",
   "metadata": {},
   "outputs": [],
   "source": [
    "import os\n",
    "os.chdir('C:/Dropbox/papers/4-work-in-progress/159-trase-dataset')"
   ]
  },
  {
   "cell_type": "code",
   "execution_count": null,
   "id": "6c2287c1-3fb1-48ee-ab23-e75012e63ab9",
   "metadata": {},
   "outputs": [],
   "source": [
    "ls"
   ]
  },
  {
   "cell_type": "code",
   "execution_count": null,
   "id": "1b20f611-0407-41fe-a3b3-c23c7d0cb34c",
   "metadata": {},
   "outputs": [],
   "source": [
    "arg_corn = pd.read_csv('159-data-original/argentina-corn-v0.2.3-2024-01-17.csv')"
   ]
  },
  {
   "cell_type": "code",
   "execution_count": null,
   "id": "30587b0a-a6b3-4db8-9f87-feb56341a298",
   "metadata": {},
   "outputs": [],
   "source": [
    "arg_corn.columns"
   ]
  },
  {
   "cell_type": "code",
   "execution_count": null,
   "id": "133bfd0c-f297-49db-b4c6-36745bf5c315",
   "metadata": {},
   "outputs": [],
   "source": [
    "arg_corn.describe()"
   ]
  },
  {
   "cell_type": "code",
   "execution_count": null,
   "id": "25e74f5e-5ff8-43f0-af24-252c10555168",
   "metadata": {},
   "outputs": [],
   "source": [
    "arg_corn.sort_values('exporter')"
   ]
  },
  {
   "cell_type": "code",
   "execution_count": null,
   "id": "1f6bd2c7-53c2-4c32-b9fb-dedd592ebdb8",
   "metadata": {},
   "outputs": [],
   "source": [
    "zubr_arg_corn = arg_corn['exporter'] == 'ZUBRINIC BERNARDO CARLOS RAMON'"
   ]
  },
  {
   "cell_type": "code",
   "execution_count": null,
   "id": "f14b8b70-5796-4635-bd5f-e2f1987873f0",
   "metadata": {},
   "outputs": [],
   "source": [
    "arg_corn[zubr_arg_corn].sort_values(['country_of_destination','year'])"
   ]
  },
  {
   "cell_type": "markdown",
   "id": "711fef33-e5fc-47ce-9548-f3d18347f730",
   "metadata": {},
   "source": [
    "# Exploratory data analysis"
   ]
  },
  {
   "cell_type": "code",
   "execution_count": 68,
   "id": "04a6f6e5-3d58-4c8d-b49e-92f0ccbe72c4",
   "metadata": {},
   "outputs": [
    {
     "data": {
      "text/plain": [
       "(array([6.065e+03, 3.860e+02, 2.930e+02, 2.570e+02, 1.990e+02, 1.070e+02,\n",
       "        7.000e+01, 6.100e+01, 4.500e+01, 4.100e+01, 4.900e+01, 3.700e+01,\n",
       "        1.800e+01, 2.300e+01, 3.700e+01, 2.000e+01, 2.300e+01, 1.700e+01,\n",
       "        1.600e+01, 1.500e+01, 1.300e+01, 1.000e+01, 9.000e+00, 9.000e+00,\n",
       "        8.000e+00, 3.000e+00, 6.000e+00, 6.000e+00, 8.000e+00, 1.000e+01,\n",
       "        8.000e+00, 5.000e+00, 6.000e+00, 5.000e+00, 4.000e+00, 5.000e+00,\n",
       "        1.000e+00, 5.000e+00, 1.000e+00, 0.000e+00, 1.000e+00, 0.000e+00,\n",
       "        2.000e+00, 3.000e+00, 1.000e+00, 0.000e+00, 1.000e+00, 2.000e+00,\n",
       "        2.000e+00, 0.000e+00, 0.000e+00, 2.000e+00, 2.000e+00, 0.000e+00,\n",
       "        1.000e+00, 1.000e+00, 2.000e+00, 0.000e+00, 0.000e+00, 0.000e+00,\n",
       "        0.000e+00, 2.000e+00, 2.000e+00, 0.000e+00, 1.000e+00, 0.000e+00,\n",
       "        0.000e+00, 3.000e+00, 0.000e+00, 0.000e+00, 1.000e+00, 1.000e+00,\n",
       "        1.000e+00, 0.000e+00, 0.000e+00, 0.000e+00, 0.000e+00, 0.000e+00,\n",
       "        0.000e+00, 0.000e+00, 1.000e+00, 0.000e+00, 0.000e+00, 0.000e+00,\n",
       "        0.000e+00, 0.000e+00, 0.000e+00, 0.000e+00, 0.000e+00, 1.000e+00,\n",
       "        0.000e+00, 0.000e+00, 0.000e+00, 0.000e+00, 0.000e+00, 0.000e+00,\n",
       "        0.000e+00, 0.000e+00, 0.000e+00, 0.000e+00, 0.000e+00, 1.000e+00,\n",
       "        1.000e+00, 0.000e+00, 0.000e+00, 0.000e+00, 0.000e+00, 0.000e+00,\n",
       "        0.000e+00, 0.000e+00, 0.000e+00, 0.000e+00, 1.000e+00, 0.000e+00,\n",
       "        0.000e+00, 0.000e+00, 0.000e+00, 0.000e+00, 0.000e+00, 0.000e+00,\n",
       "        0.000e+00, 0.000e+00, 0.000e+00, 0.000e+00, 0.000e+00, 0.000e+00,\n",
       "        1.000e+00, 0.000e+00, 0.000e+00, 0.000e+00, 0.000e+00, 0.000e+00,\n",
       "        0.000e+00, 0.000e+00, 0.000e+00, 0.000e+00, 0.000e+00, 0.000e+00,\n",
       "        0.000e+00, 0.000e+00, 0.000e+00, 0.000e+00, 0.000e+00, 0.000e+00,\n",
       "        0.000e+00, 0.000e+00, 0.000e+00, 0.000e+00, 0.000e+00, 0.000e+00,\n",
       "        0.000e+00, 0.000e+00, 0.000e+00, 0.000e+00, 0.000e+00, 0.000e+00,\n",
       "        0.000e+00, 0.000e+00, 1.000e+00, 0.000e+00, 0.000e+00, 0.000e+00,\n",
       "        0.000e+00, 0.000e+00, 0.000e+00, 0.000e+00, 0.000e+00, 0.000e+00,\n",
       "        0.000e+00, 0.000e+00, 0.000e+00, 0.000e+00, 0.000e+00, 0.000e+00,\n",
       "        0.000e+00, 0.000e+00, 0.000e+00, 0.000e+00, 0.000e+00, 0.000e+00,\n",
       "        0.000e+00, 0.000e+00, 0.000e+00, 0.000e+00, 0.000e+00, 0.000e+00,\n",
       "        0.000e+00, 0.000e+00, 1.000e+00, 0.000e+00, 0.000e+00, 0.000e+00,\n",
       "        0.000e+00, 0.000e+00, 0.000e+00, 0.000e+00, 0.000e+00, 0.000e+00,\n",
       "        0.000e+00, 0.000e+00, 0.000e+00, 0.000e+00, 0.000e+00, 0.000e+00,\n",
       "        0.000e+00, 0.000e+00, 0.000e+00, 0.000e+00, 0.000e+00, 0.000e+00,\n",
       "        0.000e+00, 0.000e+00, 0.000e+00, 0.000e+00, 0.000e+00, 0.000e+00,\n",
       "        0.000e+00, 0.000e+00, 0.000e+00, 0.000e+00, 0.000e+00, 0.000e+00,\n",
       "        0.000e+00, 0.000e+00, 0.000e+00, 0.000e+00, 0.000e+00, 0.000e+00,\n",
       "        0.000e+00, 0.000e+00, 0.000e+00, 0.000e+00, 0.000e+00, 0.000e+00,\n",
       "        0.000e+00, 0.000e+00, 0.000e+00, 0.000e+00, 0.000e+00, 0.000e+00,\n",
       "        0.000e+00, 0.000e+00, 0.000e+00, 0.000e+00, 0.000e+00, 0.000e+00,\n",
       "        0.000e+00, 0.000e+00, 0.000e+00, 1.000e+00, 0.000e+00, 0.000e+00,\n",
       "        0.000e+00, 0.000e+00, 0.000e+00, 0.000e+00, 0.000e+00, 0.000e+00,\n",
       "        0.000e+00, 0.000e+00, 0.000e+00, 0.000e+00, 0.000e+00, 0.000e+00,\n",
       "        0.000e+00, 0.000e+00, 0.000e+00, 0.000e+00, 0.000e+00, 0.000e+00,\n",
       "        0.000e+00, 0.000e+00, 0.000e+00, 0.000e+00, 0.000e+00, 0.000e+00,\n",
       "        0.000e+00, 0.000e+00, 0.000e+00, 0.000e+00, 0.000e+00, 0.000e+00,\n",
       "        0.000e+00, 0.000e+00, 0.000e+00, 0.000e+00, 0.000e+00, 0.000e+00,\n",
       "        0.000e+00, 0.000e+00, 0.000e+00, 0.000e+00, 0.000e+00, 0.000e+00,\n",
       "        0.000e+00, 0.000e+00, 0.000e+00, 0.000e+00, 0.000e+00, 1.000e+00]),\n",
       " array([7.00000000e-05, 8.94877025e+03, 1.78975404e+04, 2.68463106e+04,\n",
       "        3.57950808e+04, 4.47438510e+04, 5.36926211e+04, 6.26413913e+04,\n",
       "        7.15901615e+04, 8.05389317e+04, 8.94877019e+04, 9.84364720e+04,\n",
       "        1.07385242e+05, 1.16334012e+05, 1.25282783e+05, 1.34231553e+05,\n",
       "        1.43180323e+05, 1.52129093e+05, 1.61077863e+05, 1.70026633e+05,\n",
       "        1.78975404e+05, 1.87924174e+05, 1.96872944e+05, 2.05821714e+05,\n",
       "        2.14770484e+05, 2.23719255e+05, 2.32668025e+05, 2.41616795e+05,\n",
       "        2.50565565e+05, 2.59514335e+05, 2.68463105e+05, 2.77411876e+05,\n",
       "        2.86360646e+05, 2.95309416e+05, 3.04258186e+05, 3.13206956e+05,\n",
       "        3.22155726e+05, 3.31104497e+05, 3.40053267e+05, 3.49002037e+05,\n",
       "        3.57950807e+05, 3.66899577e+05, 3.75848348e+05, 3.84797118e+05,\n",
       "        3.93745888e+05, 4.02694658e+05, 4.11643428e+05, 4.20592198e+05,\n",
       "        4.29540969e+05, 4.38489739e+05, 4.47438509e+05, 4.56387279e+05,\n",
       "        4.65336049e+05, 4.74284820e+05, 4.83233590e+05, 4.92182360e+05,\n",
       "        5.01131130e+05, 5.10079900e+05, 5.19028670e+05, 5.27977441e+05,\n",
       "        5.36926211e+05, 5.45874981e+05, 5.54823751e+05, 5.63772521e+05,\n",
       "        5.72721291e+05, 5.81670062e+05, 5.90618832e+05, 5.99567602e+05,\n",
       "        6.08516372e+05, 6.17465142e+05, 6.26413913e+05, 6.35362683e+05,\n",
       "        6.44311453e+05, 6.53260223e+05, 6.62208993e+05, 6.71157763e+05,\n",
       "        6.80106534e+05, 6.89055304e+05, 6.98004074e+05, 7.06952844e+05,\n",
       "        7.15901614e+05, 7.24850385e+05, 7.33799155e+05, 7.42747925e+05,\n",
       "        7.51696695e+05, 7.60645465e+05, 7.69594235e+05, 7.78543006e+05,\n",
       "        7.87491776e+05, 7.96440546e+05, 8.05389316e+05, 8.14338086e+05,\n",
       "        8.23286856e+05, 8.32235627e+05, 8.41184397e+05, 8.50133167e+05,\n",
       "        8.59081937e+05, 8.68030707e+05, 8.76979478e+05, 8.85928248e+05,\n",
       "        8.94877018e+05, 9.03825788e+05, 9.12774558e+05, 9.21723328e+05,\n",
       "        9.30672099e+05, 9.39620869e+05, 9.48569639e+05, 9.57518409e+05,\n",
       "        9.66467179e+05, 9.75415950e+05, 9.84364720e+05, 9.93313490e+05,\n",
       "        1.00226226e+06, 1.01121103e+06, 1.02015980e+06, 1.02910857e+06,\n",
       "        1.03805734e+06, 1.04700611e+06, 1.05595488e+06, 1.06490365e+06,\n",
       "        1.07385242e+06, 1.08280119e+06, 1.09174996e+06, 1.10069873e+06,\n",
       "        1.10964750e+06, 1.11859627e+06, 1.12754504e+06, 1.13649381e+06,\n",
       "        1.14544258e+06, 1.15439135e+06, 1.16334012e+06, 1.17228889e+06,\n",
       "        1.18123766e+06, 1.19018643e+06, 1.19913520e+06, 1.20808397e+06,\n",
       "        1.21703274e+06, 1.22598151e+06, 1.23493028e+06, 1.24387905e+06,\n",
       "        1.25282783e+06, 1.26177660e+06, 1.27072537e+06, 1.27967414e+06,\n",
       "        1.28862291e+06, 1.29757168e+06, 1.30652045e+06, 1.31546922e+06,\n",
       "        1.32441799e+06, 1.33336676e+06, 1.34231553e+06, 1.35126430e+06,\n",
       "        1.36021307e+06, 1.36916184e+06, 1.37811061e+06, 1.38705938e+06,\n",
       "        1.39600815e+06, 1.40495692e+06, 1.41390569e+06, 1.42285446e+06,\n",
       "        1.43180323e+06, 1.44075200e+06, 1.44970077e+06, 1.45864954e+06,\n",
       "        1.46759831e+06, 1.47654708e+06, 1.48549585e+06, 1.49444462e+06,\n",
       "        1.50339339e+06, 1.51234216e+06, 1.52129093e+06, 1.53023970e+06,\n",
       "        1.53918847e+06, 1.54813724e+06, 1.55708601e+06, 1.56603478e+06,\n",
       "        1.57498355e+06, 1.58393232e+06, 1.59288109e+06, 1.60182986e+06,\n",
       "        1.61077863e+06, 1.61972740e+06, 1.62867617e+06, 1.63762494e+06,\n",
       "        1.64657371e+06, 1.65552248e+06, 1.66447125e+06, 1.67342002e+06,\n",
       "        1.68236879e+06, 1.69131756e+06, 1.70026633e+06, 1.70921510e+06,\n",
       "        1.71816387e+06, 1.72711264e+06, 1.73606141e+06, 1.74501018e+06,\n",
       "        1.75395896e+06, 1.76290773e+06, 1.77185650e+06, 1.78080527e+06,\n",
       "        1.78975404e+06, 1.79870281e+06, 1.80765158e+06, 1.81660035e+06,\n",
       "        1.82554912e+06, 1.83449789e+06, 1.84344666e+06, 1.85239543e+06,\n",
       "        1.86134420e+06, 1.87029297e+06, 1.87924174e+06, 1.88819051e+06,\n",
       "        1.89713928e+06, 1.90608805e+06, 1.91503682e+06, 1.92398559e+06,\n",
       "        1.93293436e+06, 1.94188313e+06, 1.95083190e+06, 1.95978067e+06,\n",
       "        1.96872944e+06, 1.97767821e+06, 1.98662698e+06, 1.99557575e+06,\n",
       "        2.00452452e+06, 2.01347329e+06, 2.02242206e+06, 2.03137083e+06,\n",
       "        2.04031960e+06, 2.04926837e+06, 2.05821714e+06, 2.06716591e+06,\n",
       "        2.07611468e+06, 2.08506345e+06, 2.09401222e+06, 2.10296099e+06,\n",
       "        2.11190976e+06, 2.12085853e+06, 2.12980730e+06, 2.13875607e+06,\n",
       "        2.14770484e+06, 2.15665361e+06, 2.16560238e+06, 2.17455115e+06,\n",
       "        2.18349992e+06, 2.19244869e+06, 2.20139746e+06, 2.21034623e+06,\n",
       "        2.21929500e+06, 2.22824377e+06, 2.23719254e+06, 2.24614131e+06,\n",
       "        2.25509009e+06, 2.26403886e+06, 2.27298763e+06, 2.28193640e+06,\n",
       "        2.29088517e+06, 2.29983394e+06, 2.30878271e+06, 2.31773148e+06,\n",
       "        2.32668025e+06, 2.33562902e+06, 2.34457779e+06, 2.35352656e+06,\n",
       "        2.36247533e+06, 2.37142410e+06, 2.38037287e+06, 2.38932164e+06,\n",
       "        2.39827041e+06, 2.40721918e+06, 2.41616795e+06, 2.42511672e+06,\n",
       "        2.43406549e+06, 2.44301426e+06, 2.45196303e+06, 2.46091180e+06,\n",
       "        2.46986057e+06, 2.47880934e+06, 2.48775811e+06, 2.49670688e+06,\n",
       "        2.50565565e+06, 2.51460442e+06, 2.52355319e+06, 2.53250196e+06,\n",
       "        2.54145073e+06, 2.55039950e+06, 2.55934827e+06, 2.56829704e+06,\n",
       "        2.57724581e+06, 2.58619458e+06, 2.59514335e+06, 2.60409212e+06,\n",
       "        2.61304089e+06, 2.62198966e+06, 2.63093843e+06, 2.63988720e+06,\n",
       "        2.64883597e+06, 2.65778474e+06, 2.66673351e+06, 2.67568228e+06,\n",
       "        2.68463105e+06]),\n",
       " <BarContainer object of 300 artists>)"
      ]
     },
     "execution_count": 68,
     "metadata": {},
     "output_type": "execute_result"
    },
    {
     "data": {
      "image/png": "[encoded data removed]",
      "text/plain": [
       "<Figure size 640x480 with 1 Axes>"
      ]
     },
     "metadata": {},
     "output_type": "display_data"
    }
   ],
   "source": [
    "plt.hist(arg_corn['volume'],\n",
    "        bins=300,\n",
    "        log=True)"
   ]
  }
 ],
 "metadata": {
  "kernelspec": {
   "display_name": "Python 3 (ipykernel)",
   "language": "python",
   "name": "python3"
  },
  "language_info": {
   "codemirror_mode": {
    "name": "ipython",
    "version": 3
   },
   "file_extension": ".py",
   "mimetype": "text/x-python",
   "name": "python",
   "nbconvert_exporter": "python",
   "pygments_lexer": "ipython3",
   "version": "3.11.7"
  }
 },
 "nbformat": 4,
 "nbformat_minor": 5
}
